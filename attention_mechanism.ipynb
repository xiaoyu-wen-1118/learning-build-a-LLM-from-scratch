{
 "cells": [
  {
   "cell_type": "code",
   "execution_count": 1,
   "metadata": {},
   "outputs": [],
   "source": [
    "import torch"
   ]
  },
  {
   "cell_type": "code",
   "execution_count": 2,
   "metadata": {},
   "outputs": [
    {
     "data": {
      "text/plain": [
       "tensor([[0.4300, 0.1500, 0.8900],\n",
       "        [0.5500, 0.7800, 0.6600],\n",
       "        [0.5700, 0.8500, 0.6400],\n",
       "        [0.2200, 0.5800, 0.3300],\n",
       "        [0.7700, 0.2500, 0.1000],\n",
       "        [0.0500, 0.8000, 0.5500]])"
      ]
     },
     "execution_count": 2,
     "metadata": {},
     "output_type": "execute_result"
    }
   ],
   "source": [
    "torch.manual_seed(6)\n",
    "# inputs = torch.rand(6, 3)\n",
    "inputs = torch.tensor(\n",
    "    [\n",
    "        [0.43, 0.15, 0.89],\n",
    "        [0.55, 0.78, 0.66],\n",
    "        [0.57, 0.85, 0.64],\n",
    "        [0.22, 0.58, 0.33],\n",
    "        [0.77, 0.25, 0.10],\n",
    "        [0.05, 0.80, 0.55]\n",
    "    ]\n",
    ")\n",
    "inputs"
   ]
  },
  {
   "cell_type": "code",
   "execution_count": 3,
   "metadata": {},
   "outputs": [
    {
     "name": "stdout",
     "output_type": "stream",
     "text": [
      "tensor([[0.9409, 1.3465, 1.3989, 0.7912, 0.6845, 1.0145]])\n"
     ]
    }
   ],
   "source": [
    "query = inputs[1]\n",
    "attn_scores_2 = torch.zeros(1, inputs.shape[0])\n",
    "for i, x_i in enumerate(inputs):\n",
    "    attn_scores_2[0][i] = torch.dot(x_i, query)\n",
    "print(attn_scores_2)"
   ]
  },
  {
   "cell_type": "code",
   "execution_count": 4,
   "metadata": {},
   "outputs": [
    {
     "data": {
      "text/plain": [
       "torch.Size([1, 6])"
      ]
     },
     "execution_count": 4,
     "metadata": {},
     "output_type": "execute_result"
    }
   ],
   "source": [
    "attn_scores_2.shape"
   ]
  },
  {
   "cell_type": "code",
   "execution_count": 5,
   "metadata": {},
   "outputs": [
    {
     "name": "stdout",
     "output_type": "stream",
     "text": [
      "tensor(1.)\n"
     ]
    }
   ],
   "source": [
    "# Normalize the attention scores\n",
    "attn_scores_2 = torch.softmax(attn_scores_2, dim=-1) # Normalize along the last dimension, which is columns\n",
    "# so that the values in the row sum to 1\n",
    "print(attn_scores_2.sum())"
   ]
  },
  {
   "cell_type": "code",
   "execution_count": 6,
   "metadata": {},
   "outputs": [
    {
     "ename": "RuntimeError",
     "evalue": "The size of tensor a (6) must match the size of tensor b (3) at non-singleton dimension 0",
     "output_type": "error",
     "traceback": [
      "\u001b[1;31m---------------------------------------------------------------------------\u001b[0m",
      "\u001b[1;31mRuntimeError\u001b[0m                              Traceback (most recent call last)",
      "Cell \u001b[1;32mIn[6], line 3\u001b[0m\n\u001b[0;32m      1\u001b[0m context_vec_2 \u001b[38;5;241m=\u001b[39m torch\u001b[38;5;241m.\u001b[39mzeros(query\u001b[38;5;241m.\u001b[39mshape)\n\u001b[0;32m      2\u001b[0m \u001b[38;5;28;01mfor\u001b[39;00m i, x_i \u001b[38;5;129;01min\u001b[39;00m \u001b[38;5;28menumerate\u001b[39m(inputs):\n\u001b[1;32m----> 3\u001b[0m     context_vec_2 \u001b[38;5;241m+\u001b[39m\u001b[38;5;241m=\u001b[39m attn_scores_2[i] \u001b[38;5;241m*\u001b[39m x_i\n\u001b[0;32m      4\u001b[0m \u001b[38;5;28mprint\u001b[39m(context_vec_2)\n",
      "\u001b[1;31mRuntimeError\u001b[0m: The size of tensor a (6) must match the size of tensor b (3) at non-singleton dimension 0"
     ]
    }
   ],
   "source": [
    "context_vec_2 = torch.zeros(query.shape)\n",
    "for i, x_i in enumerate(inputs):\n",
    "    context_vec_2 += attn_scores_2[i] * x_i\n",
    "print(context_vec_2)"
   ]
  },
  {
   "cell_type": "code",
   "execution_count": null,
   "metadata": {},
   "outputs": [
    {
     "name": "stdout",
     "output_type": "stream",
     "text": [
      "tensor([[0.9995, 0.9409, 0.9422, 0.4753, 0.4576, 0.6310],\n",
      "        [0.9409, 1.3465, 1.3989, 0.7912, 0.6845, 1.0145],\n",
      "        [0.9422, 1.3989, 1.4570, 0.8296, 0.7154, 1.0605],\n",
      "        [0.4753, 0.7912, 0.8296, 0.4937, 0.3474, 0.6565],\n",
      "        [0.4576, 0.6845, 0.7154, 0.3474, 0.6654, 0.2935],\n",
      "        [0.6310, 1.0145, 1.0605, 0.6565, 0.2935, 0.9450]])\n"
     ]
    }
   ],
   "source": [
    "# Compute the attention scores for all input vectors\n",
    "attn_scores = torch.empty(inputs.shape[0], inputs.shape[0])\n",
    "for i, x_i in enumerate(inputs):\n",
    "    for j, x_j in enumerate(inputs):\n",
    "        attn_scores[i, j] = torch.dot(x_i, x_j)\n",
    "print(attn_scores)"
   ]
  },
  {
   "cell_type": "code",
   "execution_count": 10,
   "metadata": {},
   "outputs": [
    {
     "name": "stdout",
     "output_type": "stream",
     "text": [
      "tensor([[0.9995, 0.9409, 0.9422, 0.4753, 0.4576, 0.6310],\n",
      "        [0.9409, 1.3465, 1.3989, 0.7912, 0.6845, 1.0145],\n",
      "        [0.9422, 1.3989, 1.4570, 0.8296, 0.7154, 1.0605],\n",
      "        [0.4753, 0.7912, 0.8296, 0.4937, 0.3474, 0.6565],\n",
      "        [0.4576, 0.6845, 0.7154, 0.3474, 0.6654, 0.2935],\n",
      "        [0.6310, 1.0145, 1.0605, 0.6565, 0.2935, 0.9450]])\n"
     ]
    }
   ],
   "source": [
    "attn_scores = inputs @ inputs.T # @ is matrix multiplication\n",
    "print(attn_scores)"
   ]
  },
  {
   "cell_type": "code",
   "execution_count": 11,
   "metadata": {},
   "outputs": [
    {
     "data": {
      "text/plain": [
       "tensor([[0.2104, 0.1984, 0.1987, 0.1246, 0.1224, 0.1455],\n",
       "        [0.1472, 0.2209, 0.2328, 0.1268, 0.1139, 0.1585],\n",
       "        [0.1415, 0.2234, 0.2367, 0.1264, 0.1128, 0.1592],\n",
       "        [0.1451, 0.1989, 0.2067, 0.1478, 0.1276, 0.1739],\n",
       "        [0.1533, 0.1923, 0.1984, 0.1373, 0.1887, 0.1301],\n",
       "        [0.1406, 0.2063, 0.2160, 0.1442, 0.1003, 0.1925]])"
      ]
     },
     "execution_count": 11,
     "metadata": {},
     "output_type": "execute_result"
    }
   ],
   "source": [
    "attn_weights = torch.softmax(attn_scores, dim=-1)\n",
    "attn_weights"
   ]
  },
  {
   "cell_type": "code",
   "execution_count": 12,
   "metadata": {},
   "outputs": [
    {
     "data": {
      "text/plain": [
       "torch.Size([6, 6])"
      ]
     },
     "execution_count": 12,
     "metadata": {},
     "output_type": "execute_result"
    }
   ],
   "source": [
    "attn_weights.shape"
   ]
  },
  {
   "cell_type": "code",
   "execution_count": 13,
   "metadata": {},
   "outputs": [
    {
     "data": {
      "text/plain": [
       "tensor(1.0000)"
      ]
     },
     "execution_count": 13,
     "metadata": {},
     "output_type": "execute_result"
    }
   ],
   "source": [
    "attn_weights[0].sum()"
   ]
  },
  {
   "cell_type": "code",
   "execution_count": 14,
   "metadata": {},
   "outputs": [
    {
     "data": {
      "text/plain": [
       "tensor([[0.4418, 0.5745, 0.5788],\n",
       "        [0.4410, 0.6210, 0.5661],\n",
       "        [0.4412, 0.6256, 0.5654],\n",
       "        [0.4291, 0.6094, 0.5499],\n",
       "        [0.4667, 0.5725, 0.5260],\n",
       "        [0.4157, 0.6284, 0.5631]])"
      ]
     },
     "execution_count": 14,
     "metadata": {},
     "output_type": "execute_result"
    }
   ],
   "source": [
    "all_context_vecs = attn_weights @ inputs\n",
    "all_context_vecs"
   ]
  },
  {
   "cell_type": "code",
   "execution_count": 15,
   "metadata": {},
   "outputs": [],
   "source": [
    "torch.manual_seed(123)\n",
    "\n",
    "d_in = inputs.shape[1]\n",
    "d_out = 2\n",
    "W_query = torch.nn.Parameter(torch.rand(d_in, d_out), requires_grad = False)\n",
    "W_key = torch.nn.Parameter(torch.rand(d_in, d_out), requires_grad = False)\n",
    "W_value = torch.nn.Parameter(torch.rand(d_in, d_out), requires_grad = False)"
   ]
  },
  {
   "cell_type": "code",
   "execution_count": 17,
   "metadata": {},
   "outputs": [
    {
     "data": {
      "text/plain": [
       "Parameter containing:\n",
       "tensor([[0.2961, 0.5166],\n",
       "        [0.2517, 0.6886],\n",
       "        [0.0740, 0.8665]])"
      ]
     },
     "execution_count": 17,
     "metadata": {},
     "output_type": "execute_result"
    }
   ],
   "source": [
    "W_query"
   ]
  },
  {
   "cell_type": "code",
   "execution_count": 16,
   "metadata": {},
   "outputs": [
    {
     "name": "stdout",
     "output_type": "stream",
     "text": [
      "tensor([0.4080, 1.3931])\n"
     ]
    }
   ],
   "source": [
    "x_2 = inputs[1]\n",
    "query_2 = x_2 @ W_query\n",
    "key_2 = x_2 @ W_key\n",
    "value_2 = x_2 @ W_value\n",
    "print(query_2)"
   ]
  },
  {
   "cell_type": "code",
   "execution_count": 18,
   "metadata": {},
   "outputs": [
    {
     "name": "stdout",
     "output_type": "stream",
     "text": [
      "torch.Size([6, 2])\n",
      "torch.Size([6, 2])\n"
     ]
    }
   ],
   "source": [
    "keys = inputs @ W_key\n",
    "values = inputs @ W_value\n",
    "print(keys.shape)\n",
    "print(values.shape)"
   ]
  },
  {
   "cell_type": "code",
   "execution_count": 19,
   "metadata": {},
   "outputs": [
    {
     "name": "stdout",
     "output_type": "stream",
     "text": [
      "tensor(1.6737)\n"
     ]
    }
   ],
   "source": [
    "# Compute the attention scores for input vector x_2\n",
    "keys_2 = keys[1]\n",
    "attn_score_22 = query_2.dot(keys_2)\n",
    "print(attn_score_22)"
   ]
  },
  {
   "cell_type": "code",
   "execution_count": 20,
   "metadata": {},
   "outputs": [
    {
     "name": "stdout",
     "output_type": "stream",
     "text": [
      "tensor([1.2148, 1.6737, 1.7321, 1.0325, 0.5332, 1.4768])\n"
     ]
    }
   ],
   "source": [
    "attn_scores_2 = query_2 @ keys.T\n",
    "print(attn_scores_2)"
   ]
  },
  {
   "cell_type": "code",
   "execution_count": 21,
   "metadata": {},
   "outputs": [
    {
     "name": "stdout",
     "output_type": "stream",
     "text": [
      "tensor([0.1533, 0.2120, 0.2209, 0.1347, 0.0946, 0.1844])\n"
     ]
    }
   ],
   "source": [
    "d_k = keys.shape[-1]\n",
    "attn_weights_2 = torch.softmax(attn_scores_2 / d_k**0.5, dim=-1)\n",
    "print(attn_weights_2)"
   ]
  },
  {
   "cell_type": "code",
   "execution_count": 22,
   "metadata": {},
   "outputs": [
    {
     "name": "stdout",
     "output_type": "stream",
     "text": [
      "tensor([0.2976, 0.8081])\n"
     ]
    }
   ],
   "source": [
    "context_vec_2 = attn_weights_2 @ values\n",
    "print(context_vec_2)"
   ]
  },
  {
   "cell_type": "code",
   "execution_count": 26,
   "metadata": {},
   "outputs": [],
   "source": [
    "import torch.nn as nn\n",
    "class SelfAttention_v1(nn.Module):\n",
    "    def __init__(self, d_in, d_out):\n",
    "        super().__init__() # Initialize the base class\n",
    "        self.W_query = nn.Parameter(torch.rand(d_in, d_out)) # Random numbers from a uniform distribution on the interval [0, 1)\n",
    "        self.W_key = nn.Parameter(torch.rand(d_in, d_out))\n",
    "        self.W_value = nn.Parameter(torch.rand(d_in, d_out))\n",
    "\n",
    "    def forward(self, x):\n",
    "        keys = x @ self.W_key\n",
    "        queries = x @ self.W_query\n",
    "        values = x @ self.W_value\n",
    "        attn_scores = queries @ keys.T\n",
    "        attn_weights = torch.softmax(attn_scores / keys.shape[-1]**0.5, dim=-1) # Compute the attention weights\n",
    "        context_vec = attn_weights @ values # Compute the context vectors\n",
    "        return context_vec\n",
    "    \n",
    "class SelfAttention_v2(nn.Module):\n",
    "    def __init__(self, d_in, d_out, qkv_bias=False):\n",
    "        super().__init__()\n",
    "        self.W_query = nn.Linear(d_in, d_out, bias=qkv_bias) # nn.Linear has an optimized weights initialization scheme TODO Understandy why?\n",
    "        self.W_key = nn.Linear(d_in, d_out, bias=qkv_bias)\n",
    "        self.W_value = nn.Linear(d_in, d_out, bias=qkv_bias)\n",
    "\n",
    "    def forward(self, x):\n",
    "        keys = self.W_key(x) # nn.Linear abstracts the matrix multiplication and bias addition\n",
    "        queries = self.W_query(x)\n",
    "        values = self.W_value(x)\n",
    "        attn_scores = queries @ keys.T\n",
    "        attn_weights = torch.softmax(attn_scores / keys.shape[-1]**0.5, dim=-1)\n",
    "        context_vec = attn_weights @ values\n",
    "        return context_vec\n"
   ]
  },
  {
   "cell_type": "code",
   "execution_count": 27,
   "metadata": {},
   "outputs": [
    {
     "name": "stdout",
     "output_type": "stream",
     "text": [
      "tensor([[-0.0719,  0.0726],\n",
      "        [-0.0728,  0.0716],\n",
      "        [-0.0728,  0.0716],\n",
      "        [-0.0739,  0.0698],\n",
      "        [-0.0742,  0.0692],\n",
      "        [-0.0734,  0.0706]], grad_fn=<MmBackward0>)\n"
     ]
    }
   ],
   "source": [
    "torch.manual_seed(789)\n",
    "\n",
    "sa_v2 = SelfAttention_v2(d_in, d_out)\n",
    "print(sa_v2(inputs))"
   ]
  },
  {
   "cell_type": "code",
   "execution_count": 30,
   "metadata": {},
   "outputs": [
    {
     "data": {
      "text/plain": [
       "Parameter containing:\n",
       "tensor([[ 0.3161,  0.4568,  0.5118],\n",
       "        [-0.1683, -0.3379, -0.0918]], requires_grad=True)"
      ]
     },
     "execution_count": 30,
     "metadata": {},
     "output_type": "execute_result"
    }
   ],
   "source": [
    "sa_v2.W_query.weight"
   ]
  },
  {
   "cell_type": "code",
   "execution_count": 34,
   "metadata": {},
   "outputs": [
    {
     "name": "stdout",
     "output_type": "stream",
     "text": [
      "tensor([[-0.0719,  0.0726],\n",
      "        [-0.0728,  0.0716],\n",
      "        [-0.0728,  0.0716],\n",
      "        [-0.0739,  0.0698],\n",
      "        [-0.0742,  0.0692],\n",
      "        [-0.0734,  0.0706]], grad_fn=<MmBackward0>)\n"
     ]
    }
   ],
   "source": [
    "sa_v1 = SelfAttention_v1(d_in, d_out)\n",
    "sa_v1.W_query = torch.nn.Parameter(sa_v2.W_query.weight.T)\n",
    "sa_v1.W_key = torch.nn.Parameter(sa_v2.W_key.weight.T)\n",
    "sa_v1.W_value = torch.nn.Parameter(sa_v2.W_value.weight.T)\n",
    "print(sa_v1(inputs))"
   ]
  },
  {
   "cell_type": "markdown",
   "metadata": {},
   "source": [
    "## Causal (masked) Attention: hide the future words"
   ]
  },
  {
   "cell_type": "code",
   "execution_count": null,
   "metadata": {},
   "outputs": [
    {
     "data": {
      "text/plain": [
       "tensor([[False,  True,  True,  True,  True,  True],\n",
       "        [False, False,  True,  True,  True,  True],\n",
       "        [False, False, False,  True,  True,  True],\n",
       "        [False, False, False, False,  True,  True],\n",
       "        [False, False, False, False, False,  True],\n",
       "        [False, False, False, False, False, False]])"
      ]
     },
     "execution_count": 38,
     "metadata": {},
     "output_type": "execute_result"
    }
   ],
   "source": [
    "context_length = attn_scores.shape[0]\n",
    "mask = torch.triu(torch.ones(context_length, context_length), diagonal=1).bool() # Upper triangular matrix\n",
    "mask"
   ]
  },
  {
   "cell_type": "code",
   "execution_count": 55,
   "metadata": {},
   "outputs": [
    {
     "data": {
      "text/plain": [
       "tensor([[0.9995,   -inf,   -inf,   -inf,   -inf,   -inf],\n",
       "        [0.9409, 1.3465,   -inf,   -inf,   -inf,   -inf],\n",
       "        [0.9422, 1.3989, 1.4570,   -inf,   -inf,   -inf],\n",
       "        [0.4753, 0.7912, 0.8296, 0.4937,   -inf,   -inf],\n",
       "        [0.4576, 0.6845, 0.7154, 0.3474, 0.6654,   -inf],\n",
       "        [0.6310, 1.0145, 1.0605, 0.6565, 0.2935, 0.9450]])"
      ]
     },
     "execution_count": 55,
     "metadata": {},
     "output_type": "execute_result"
    }
   ],
   "source": [
    "masked = attn_scores.masked_fill(mask, -torch.inf)\n",
    "masked"
   ]
  },
  {
   "cell_type": "code",
   "execution_count": 40,
   "metadata": {},
   "outputs": [
    {
     "data": {
      "text/plain": [
       "tensor([[1.0000, 0.0000, 0.0000, 0.0000, 0.0000, 0.0000],\n",
       "        [0.4288, 0.5712, 0.0000, 0.0000, 0.0000, 0.0000],\n",
       "        [0.2618, 0.3615, 0.3767, 0.0000, 0.0000, 0.0000],\n",
       "        [0.2199, 0.2749, 0.2825, 0.2228, 0.0000, 0.0000],\n",
       "        [0.1832, 0.2151, 0.2199, 0.1695, 0.2122, 0.0000],\n",
       "        [0.1488, 0.1951, 0.2016, 0.1515, 0.1172, 0.1858]])"
      ]
     },
     "execution_count": 40,
     "metadata": {},
     "output_type": "execute_result"
    }
   ],
   "source": [
    "attn_weights = torch.softmax(masked / keys.shape[-1]**0.5, dim=-1)\n",
    "attn_weights"
   ]
  },
  {
   "cell_type": "code",
   "execution_count": 51,
   "metadata": {},
   "outputs": [
    {
     "name": "stdout",
     "output_type": "stream",
     "text": [
      "tensor([[2., 2., 2., 2., 2., 2.],\n",
      "        [0., 2., 0., 0., 0., 0.],\n",
      "        [0., 0., 2., 0., 2., 0.],\n",
      "        [2., 2., 0., 0., 0., 2.],\n",
      "        [2., 0., 0., 0., 0., 2.],\n",
      "        [0., 2., 0., 0., 0., 0.]])\n"
     ]
    }
   ],
   "source": [
    "# Masking additional attention weights with dropout\n",
    "torch.manual_seed(123)\n",
    "dropout = nn.Dropout(0.5)\n",
    "example = torch.ones(6,6)\n",
    "print(dropout(example)) "
   ]
  },
  {
   "cell_type": "code",
   "execution_count": 52,
   "metadata": {},
   "outputs": [
    {
     "data": {
      "text/plain": [
       "tensor(38.)"
      ]
     },
     "execution_count": 52,
     "metadata": {},
     "output_type": "execute_result"
    }
   ],
   "source": [
    "dropout(example).sum() # Scale the output by 1/(1-p) to maintain the expected value of the input tensor"
   ]
  },
  {
   "cell_type": "code",
   "execution_count": 53,
   "metadata": {},
   "outputs": [
    {
     "name": "stdout",
     "output_type": "stream",
     "text": [
      "tensor([[0.0000, 0.0000, 0.0000, 0.0000, 0.0000, 0.0000],\n",
      "        [0.0000, 1.1424, 0.0000, 0.0000, 0.0000, 0.0000],\n",
      "        [0.0000, 0.7231, 0.7534, 0.0000, 0.0000, 0.0000],\n",
      "        [0.0000, 0.5498, 0.5649, 0.0000, 0.0000, 0.0000],\n",
      "        [0.3665, 0.4303, 0.0000, 0.0000, 0.0000, 0.0000],\n",
      "        [0.0000, 0.3903, 0.4032, 0.0000, 0.2344, 0.3716]])\n"
     ]
    }
   ],
   "source": [
    "print(dropout(attn_weights))"
   ]
  },
  {
   "cell_type": "code",
   "execution_count": null,
   "metadata": {},
   "outputs": [
    {
     "data": {
      "text/plain": [
       "torch.Size([2, 6, 3])"
      ]
     },
     "execution_count": 54,
     "metadata": {},
     "output_type": "execute_result"
    }
   ],
   "source": [
    "batch = torch.stack((inputs, inputs), dim=0)\n",
    "batch.shapea"
   ]
  },
  {
   "cell_type": "code",
   "execution_count": 56,
   "metadata": {},
   "outputs": [],
   "source": [
    "class CasualAttention(nn.Module):\n",
    "    def __init__(self, d_in, d_out, context_length, dropout, qkv_bias=False):\n",
    "        super().__init__() # Initialize the base class\n",
    "        self.W_query = nn.Linear(d_in, d_out, bias=qkv_bias)\n",
    "        self.W_key = nn.Linear(d_in, d_out, bias=qkv_bias)\n",
    "        self.W_value = nn.Linear(d_in, d_out, bias=qkv_bias)\n",
    "        self.dropout = nn.Dropout(dropout)\n",
    "        self.register_buffer(\"mask\", torch.triu(torch.ones(context_length, context_length), diagonal=1))\n",
    "\n",
    "    def forward(self, x):\n",
    "        bz, num_tokens, d_in = x.shape\n",
    "        keys = self.W_key(x)\n",
    "        queries = self.W_query(x)\n",
    "        values = self.W_value(x)\n",
    "        attn_scores = queries @ keys.transpose(1, 2) # keys shape before transpose is (bz, num_tokens, d_out)\n",
    "        masked = attn_scores.masked_fill_(self.mask.bool()[:num_tokens, :num_tokens], -torch.inf) # [:num_tokens, :num_tokens] is a slicing operation to extract a submatrix\n",
    "        attn_weights = torch.softmax(masked / keys.shape[-1]**0.5, dim=-1)\n",
    "        context_vec = attn_weights @ values\n",
    "        return context_vec"
   ]
  },
  {
   "cell_type": "code",
   "execution_count": 58,
   "metadata": {},
   "outputs": [
    {
     "data": {
      "text/plain": [
       "torch.Size([2, 6, 2])"
      ]
     },
     "execution_count": 58,
     "metadata": {},
     "output_type": "execute_result"
    }
   ],
   "source": [
    "torch.manual_seed(123)\n",
    "context_length = batch.shape[1]\n",
    "casual_attn = CasualAttention(d_in, d_out, context_length, 0.0)\n",
    "context_vec = casual_attn(batch)\n",
    "context_vec.shape"
   ]
  },
  {
   "cell_type": "markdown",
   "metadata": {},
   "source": [
    "## Multi-head causal attention mechanism"
   ]
  },
  {
   "cell_type": "code",
   "execution_count": 59,
   "metadata": {},
   "outputs": [],
   "source": [
    "class MultiHeadAttentionWrapper(nn.Module):\n",
    "    def __init__(self, d_in, d_out, context_length, dropout, num_heads, qkv_bias=False):\n",
    "        super().__init__()\n",
    "        self.heads = nn.ModuleList([CasualAttention(d_in, d_out, context_length, dropout, qkv_bias) for _ in range(num_heads)])\n",
    "    \n",
    "    def forward(self, x):\n",
    "        return torch.cat([head(x) for head in self.heads], dim=-1)"
   ]
  },
  {
   "cell_type": "code",
   "execution_count": 62,
   "metadata": {},
   "outputs": [
    {
     "data": {
      "text/plain": [
       "ModuleList(\n",
       "  (0-2): 3 x CasualAttention(\n",
       "    (W_query): Linear(in_features=3, out_features=2, bias=False)\n",
       "    (W_key): Linear(in_features=3, out_features=2, bias=False)\n",
       "    (W_value): Linear(in_features=3, out_features=2, bias=False)\n",
       "    (dropout): Dropout(p=0.5, inplace=False)\n",
       "  )\n",
       ")"
      ]
     },
     "execution_count": 62,
     "metadata": {},
     "output_type": "execute_result"
    }
   ],
   "source": [
    "num_heads = 3\n",
    "heads = nn.ModuleList([CasualAttention(d_in, d_out, context_length, 0.5) for _ in range(num_heads)])\n",
    "heads"
   ]
  },
  {
   "cell_type": "code",
   "execution_count": 63,
   "metadata": {},
   "outputs": [
    {
     "data": {
      "text/plain": [
       "tensor([[[-0.4519,  0.2216,  0.4772,  0.1063],\n",
       "         [-0.5704,  0.0276,  0.5740,  0.2991],\n",
       "         [-0.6191, -0.0493,  0.6110,  0.3699],\n",
       "         [-0.5593, -0.0741,  0.5410,  0.3475],\n",
       "         [-0.5459, -0.0898,  0.5269,  0.3339],\n",
       "         [-0.5243, -0.1012,  0.5030,  0.3416]],\n",
       "\n",
       "        [[-0.4519,  0.2216,  0.4772,  0.1063],\n",
       "         [-0.5704,  0.0276,  0.5740,  0.2991],\n",
       "         [-0.6191, -0.0493,  0.6110,  0.3699],\n",
       "         [-0.5593, -0.0741,  0.5410,  0.3475],\n",
       "         [-0.5459, -0.0898,  0.5269,  0.3339],\n",
       "         [-0.5243, -0.1012,  0.5030,  0.3416]]], grad_fn=<CatBackward0>)"
      ]
     },
     "execution_count": 63,
     "metadata": {},
     "output_type": "execute_result"
    }
   ],
   "source": [
    "torch.manual_seed(123)\n",
    "context_length = batch.shape[1] # Number of tokens in the input sequence\n",
    "d_in, d_out = 3, 2\n",
    "mha = MultiHeadAttentionWrapper(d_in, d_out, context_length, 0.5, num_heads=2)\n",
    "context_vec = mha(batch)\n",
    "context_vec"
   ]
  },
  {
   "cell_type": "code",
   "execution_count": 64,
   "metadata": {},
   "outputs": [
    {
     "data": {
      "text/plain": [
       "torch.Size([2, 6, 4])"
      ]
     },
     "execution_count": 64,
     "metadata": {},
     "output_type": "execute_result"
    }
   ],
   "source": [
    "context_vec.shape"
   ]
  },
  {
   "cell_type": "code",
   "execution_count": 75,
   "metadata": {},
   "outputs": [],
   "source": [
    "class MultiHeadAttention(nn.Module):\n",
    "    def __init__(self, d_in, d_out, context_length, dropout, num_heads, qkv_bias=False):\n",
    "        super().__init__()\n",
    "        assert (d_out % num_heads) == 0, \"d_out must be divisible by num_heads\"\n",
    "\n",
    "        self.d_out = d_out\n",
    "        self.num_heads = num_heads\n",
    "        self.head_dim = d_out // num_heads\n",
    "        self.W_query = nn.Linear(d_in, d_out, bias=qkv_bias)\n",
    "        self.W_key = nn.Linear(d_in, d_out, bias=qkv_bias)\n",
    "        self.W_value = nn.Linear(d_in, d_out, bias=qkv_bias)\n",
    "        self.out_proj = nn.Linear(d_out, d_out)\n",
    "        self.dropout = nn.Dropout(dropout)\n",
    "        self.register_buffer(\"mask\", torch.triu(torch.ones(context_length, context_length), diagonal=1)) # diagonal=1 refers to the diagonal above the main diagonal\n",
    "\n",
    "    def forward(self, x):\n",
    "        bz, num_tokens, d_in = x.shape\n",
    "        keys = self.W_key(x)\n",
    "        queries = self.W_query(x)\n",
    "        values = self.W_value(x)\n",
    "        keys = keys.view(bz, num_tokens, self.num_heads, self.head_dim) # Split the matrix by adding a num_heads dimension\n",
    "        queries = queries.view(bz, num_tokens, self.num_heads, self.head_dim)\n",
    "        values = values.view(bz, num_tokens, self.num_heads, self.head_dim)\n",
    "\n",
    "        keys = keys.transpose(1,2) # Transpose from shape (bz, num_tokens, num_heads, head_dim) to (bz, num_heads, num_tokens, head_dim)\n",
    "        queries = queries.transpose(1,2)\n",
    "        values = values.transpose(1,2)\n",
    "        print(\"keys shape:\", keys.shape)\n",
    "        print(\"queries shape:\", queries.shape)\n",
    "        print(\"keys transpose shape:\", keys.transpose(2, 3).shape)\n",
    "        attn_scores = queries @ keys.transpose(2, 3) # Perform the matrix multiplication bwteen the last two dimensions for each head\n",
    "        mask_bool = self.mask.bool()[:num_tokens, :num_tokens]\n",
    "        attn_scores.masked_fill_(mask_bool, -torch.inf)\n",
    "\n",
    "        attn_weights = torch.softmax(attn_scores / keys.shape[-1]**0.5, dim=-1)\n",
    "        attn_weights = self.dropout(attn_weights)\n",
    "\n",
    "        context_vec = (attn_weights@values).transpose(1,2) # Transpose back to (bz, num_tokens, num_heads, head_dim)\n",
    "        context_vec = context_vec.contiguous().view(bz, num_tokens, self.d_out) # Combine the num_heads and head_dim dimensions\n",
    "        # Contiguous() is used to ensure that the tensor is stored in a contiguous block of memory\n",
    "        context_vec = self.out_proj(context_vec) # Apply the output projection to ensure that the output has the disired output dimensionality\n",
    "        return context_vec"
   ]
  },
  {
   "cell_type": "code",
   "execution_count": 66,
   "metadata": {},
   "outputs": [
    {
     "data": {
      "text/plain": [
       "tensor([[[[0.0772, 0.3565, 0.1479, 0.5331],\n",
       "          [0.4066, 0.2318, 0.4545, 0.9737],\n",
       "          [0.4606, 0.5159, 0.4220, 0.5786]],\n",
       "\n",
       "         [[0.9455, 0.8057, 0.6775, 0.6087],\n",
       "          [0.6179, 0.6932, 0.4354, 0.0353],\n",
       "          [0.1908, 0.9268, 0.5299, 0.0950]]]])"
      ]
     },
     "execution_count": 66,
     "metadata": {},
     "output_type": "execute_result"
    }
   ],
   "source": [
    "# Illustrate the batched matrix multiplication\n",
    "a = torch.rand(1, 2, 3, 4) #bz=1, num_heads=2, num_tokens=3, head_dim=4\n",
    "a"
   ]
  },
  {
   "cell_type": "code",
   "execution_count": 69,
   "metadata": {},
   "outputs": [
    {
     "name": "stdout",
     "output_type": "stream",
     "text": [
      "tensor([[[[0.4391, 0.7003, 0.5903],\n",
      "          [0.7003, 1.3738, 1.0621],\n",
      "          [0.5903, 1.0621, 0.9911]],\n",
      "\n",
      "         [[2.3727, 1.4592, 1.3439],\n",
      "          [1.4592, 1.0531, 0.9944],\n",
      "          [1.3439, 0.9944, 1.1851]]]])\n",
      "torch.Size([1, 2, 3, 3])\n"
     ]
    }
   ],
   "source": [
    "print(a @ a.transpose(2, 3)) # Matrix multiplication between the last two dimensions\n",
    "print((a @ a.transpose(2, 3)).shape)"
   ]
  },
  {
   "cell_type": "code",
   "execution_count": 71,
   "metadata": {},
   "outputs": [
    {
     "name": "stdout",
     "output_type": "stream",
     "text": [
      "First head result:\n",
      " tensor([[0.4391, 0.7003, 0.5903],\n",
      "        [0.7003, 1.3738, 1.0621],\n",
      "        [0.5903, 1.0621, 0.9911]])\n",
      "\n",
      "\n",
      "Second head result:\n",
      " tensor([[2.3727, 1.4592, 1.3439],\n",
      "        [1.4592, 1.0531, 0.9944],\n",
      "        [1.3439, 0.9944, 1.1851]])\n"
     ]
    }
   ],
   "source": [
    "first_head = a[0,0,:,:]\n",
    "first_res = first_head @ first_head.T\n",
    "print(\"First head result:\\n\", first_res)\n",
    "\n",
    "print(\"\\n\")\n",
    "second_head = a[0,1,:,:]\n",
    "second_res = second_head @ second_head.T\n",
    "print(\"Second head result:\\n\", second_res)"
   ]
  },
  {
   "cell_type": "code",
   "execution_count": 76,
   "metadata": {},
   "outputs": [
    {
     "name": "stdout",
     "output_type": "stream",
     "text": [
      "keys shape: torch.Size([2, 2, 6, 1])\n",
      "queries shape: torch.Size([2, 2, 6, 1])\n",
      "keys transpose shape: torch.Size([2, 2, 1, 6])\n",
      "tensor([[[0.3190, 0.4858],\n",
      "         [0.2962, 0.4010],\n",
      "         [0.2867, 0.3666],\n",
      "         [0.2702, 0.3928],\n",
      "         [0.2645, 0.3972],\n",
      "         [0.2580, 0.4065]],\n",
      "\n",
      "        [[0.3190, 0.4858],\n",
      "         [0.2962, 0.4010],\n",
      "         [0.2867, 0.3666],\n",
      "         [0.2702, 0.3928],\n",
      "         [0.2645, 0.3972],\n",
      "         [0.2580, 0.4065]]], grad_fn=<ViewBackward0>)\n",
      "context_vecs shape: torch.Size([2, 6, 2])\n"
     ]
    }
   ],
   "source": [
    "torch.manual_seed(123)\n",
    "batch_size, context_length, d_in = batch.shape\n",
    "d_out = 2\n",
    "mha = MultiHeadAttention(d_in, d_out, context_length, 0.0, num_heads=2)\n",
    "context_vecs = mha(batch)\n",
    "print(context_vecs)\n",
    "print(\"context_vecs shape:\", context_vecs.shape)"
   ]
  },
  {
   "cell_type": "code",
   "execution_count": null,
   "metadata": {},
   "outputs": [
    {
     "name": "stdout",
     "output_type": "stream",
     "text": [
      "keys shape: torch.Size([2, 12, 6, 64])\n",
      "queries shape: torch.Size([2, 12, 6, 64])\n",
      "keys transpose shape: torch.Size([2, 12, 64, 6])\n",
      "tensor([[[-2.6138e-03,  7.6756e-02,  8.5986e-02,  ..., -5.1693e-01,\n",
      "          -1.3521e-01,  1.6488e-01],\n",
      "         [-1.3610e-01,  3.9011e-02,  8.6464e-02,  ..., -5.7876e-01,\n",
      "          -2.0540e-01,  4.6149e-02],\n",
      "         [-1.8881e-01,  2.3534e-02,  8.7422e-02,  ..., -6.0477e-01,\n",
      "          -2.3375e-01, -4.0457e-04],\n",
      "         [-1.9569e-01,  1.1563e-02,  8.5370e-02,  ..., -5.4537e-01,\n",
      "          -2.1686e-01, -1.7504e-02],\n",
      "         [-1.7868e-01,  3.3283e-02,  5.6790e-02,  ..., -5.0214e-01,\n",
      "          -2.0144e-01, -3.8340e-02],\n",
      "         [-1.9644e-01,  9.5950e-03,  7.1341e-02,  ..., -4.9681e-01,\n",
      "          -2.0249e-01, -3.8925e-02]],\n",
      "\n",
      "        [[-2.6138e-03,  7.6756e-02,  8.5986e-02,  ..., -5.1693e-01,\n",
      "          -1.3521e-01,  1.6488e-01],\n",
      "         [-1.3610e-01,  3.9011e-02,  8.6464e-02,  ..., -5.7876e-01,\n",
      "          -2.0540e-01,  4.6149e-02],\n",
      "         [-1.8881e-01,  2.3534e-02,  8.7422e-02,  ..., -6.0477e-01,\n",
      "          -2.3375e-01, -4.0457e-04],\n",
      "         [-1.9569e-01,  1.1563e-02,  8.5370e-02,  ..., -5.4537e-01,\n",
      "          -2.1686e-01, -1.7504e-02],\n",
      "         [-1.7868e-01,  3.3283e-02,  5.6790e-02,  ..., -5.0214e-01,\n",
      "          -2.0144e-01, -3.8340e-02],\n",
      "         [-1.9644e-01,  9.5950e-03,  7.1341e-02,  ..., -4.9681e-01,\n",
      "          -2.0249e-01, -3.8925e-02]]], grad_fn=<ViewBackward0>)\n",
      "context_vecs shape: torch.Size([2, 6, 768])\n"
     ]
    }
   ],
   "source": [
    "\n",
    "gpt2_mha = MultiHeadAttention(d_in = d_in, d_out = 768, context_length = context_length, dropout = 0.0, num_heads = 12)\n",
    "context_vecs = gpt2_mha(batch)\n",
    "print(context_vecs)\n",
    "print(\"context_vecs shape:\", context_vecs.shape)"
   ]
  },
  {
   "cell_type": "code",
   "execution_count": null,
   "metadata": {},
   "outputs": [],
   "source": [
    "d_in, d_out = 768, 768\n",
    "context_length = 1024\n",
    "gpt2_mha = MultiHeadAttention(d_in = d_in, d_out = d_out, context_length = context_length, dropout = 0.0, num_heads = 12)\n"
   ]
  }
 ],
 "metadata": {
  "kernelspec": {
   "display_name": "base",
   "language": "python",
   "name": "python3"
  },
  "language_info": {
   "codemirror_mode": {
    "name": "ipython",
    "version": 3
   },
   "file_extension": ".py",
   "mimetype": "text/x-python",
   "name": "python",
   "nbconvert_exporter": "python",
   "pygments_lexer": "ipython3",
   "version": "3.11.4"
  }
 },
 "nbformat": 4,
 "nbformat_minor": 2
}
